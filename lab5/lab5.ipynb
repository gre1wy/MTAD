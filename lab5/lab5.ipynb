{
 "cells": [
  {
   "cell_type": "code",
   "execution_count": 40,
   "metadata": {},
   "outputs": [],
   "source": [
    "from sklearn.model_selection import train_test_split, cross_val_score\n",
    "from sklearn.neighbors import KNeighborsClassifier\n",
    "from sklearn.metrics import accuracy_score\n",
    "import matplotlib.pyplot as plt\n",
    "import pandas as pd"
   ]
  },
  {
   "cell_type": "code",
   "execution_count": 53,
   "metadata": {},
   "outputs": [
    {
     "data": {
      "text/html": [
       "<div>\n",
       "<style scoped>\n",
       "    .dataframe tbody tr th:only-of-type {\n",
       "        vertical-align: middle;\n",
       "    }\n",
       "\n",
       "    .dataframe tbody tr th {\n",
       "        vertical-align: top;\n",
       "    }\n",
       "\n",
       "    .dataframe thead th {\n",
       "        text-align: right;\n",
       "    }\n",
       "</style>\n",
       "<table border=\"1\" class=\"dataframe\">\n",
       "  <thead>\n",
       "    <tr style=\"text-align: right;\">\n",
       "      <th></th>\n",
       "      <th>Track</th>\n",
       "      <th>Danceability_scaled</th>\n",
       "      <th>Loudness_scaled</th>\n",
       "      <th>Cluster</th>\n",
       "    </tr>\n",
       "  </thead>\n",
       "  <tbody>\n",
       "    <tr>\n",
       "      <th>0</th>\n",
       "      <td>Feel Good Inc.</td>\n",
       "      <td>1.198765</td>\n",
       "      <td>0.175395</td>\n",
       "      <td>1</td>\n",
       "    </tr>\n",
       "    <tr>\n",
       "      <th>1</th>\n",
       "      <td>Rhinestone Eyes</td>\n",
       "      <td>0.312853</td>\n",
       "      <td>0.388378</td>\n",
       "      <td>1</td>\n",
       "    </tr>\n",
       "    <tr>\n",
       "      <th>2</th>\n",
       "      <td>New Gold (feat. Tame Impala and Bootie Brown)</td>\n",
       "      <td>0.431390</td>\n",
       "      <td>0.853047</td>\n",
       "      <td>1</td>\n",
       "    </tr>\n",
       "    <tr>\n",
       "      <th>3</th>\n",
       "      <td>Clint Eastwood</td>\n",
       "      <td>0.231748</td>\n",
       "      <td>-0.304803</td>\n",
       "      <td>1</td>\n",
       "    </tr>\n",
       "    <tr>\n",
       "      <th>4</th>\n",
       "      <td>DARE</td>\n",
       "      <td>0.836913</td>\n",
       "      <td>0.379258</td>\n",
       "      <td>1</td>\n",
       "    </tr>\n",
       "    <tr>\n",
       "      <th>...</th>\n",
       "      <td>...</td>\n",
       "      <td>...</td>\n",
       "      <td>...</td>\n",
       "      <td>...</td>\n",
       "    </tr>\n",
       "    <tr>\n",
       "      <th>17062</th>\n",
       "      <td>JUST DANCE HARDSTYLE</td>\n",
       "      <td>-0.273596</td>\n",
       "      <td>0.257976</td>\n",
       "      <td>0</td>\n",
       "    </tr>\n",
       "    <tr>\n",
       "      <th>17063</th>\n",
       "      <td>SET FIRE TO THE RAIN HARDSTYLE</td>\n",
       "      <td>-0.591776</td>\n",
       "      <td>1.381561</td>\n",
       "      <td>0</td>\n",
       "    </tr>\n",
       "    <tr>\n",
       "      <th>17064</th>\n",
       "      <td>OUTSIDE HARDSTYLE SPED UP</td>\n",
       "      <td>-1.140792</td>\n",
       "      <td>0.668412</td>\n",
       "      <td>0</td>\n",
       "    </tr>\n",
       "    <tr>\n",
       "      <th>17065</th>\n",
       "      <td>ONLY GIRL HARDSTYLE</td>\n",
       "      <td>-1.303001</td>\n",
       "      <td>0.834805</td>\n",
       "      <td>0</td>\n",
       "    </tr>\n",
       "    <tr>\n",
       "      <th>17066</th>\n",
       "      <td>MISS YOU HARDSTYLE</td>\n",
       "      <td>-0.797657</td>\n",
       "      <td>0.701937</td>\n",
       "      <td>0</td>\n",
       "    </tr>\n",
       "  </tbody>\n",
       "</table>\n",
       "<p>17067 rows × 4 columns</p>\n",
       "</div>"
      ],
      "text/plain": [
       "                                               Track  Danceability_scaled  \\\n",
       "0                                     Feel Good Inc.             1.198765   \n",
       "1                                    Rhinestone Eyes             0.312853   \n",
       "2      New Gold (feat. Tame Impala and Bootie Brown)             0.431390   \n",
       "3                                     Clint Eastwood             0.231748   \n",
       "4                                               DARE             0.836913   \n",
       "...                                              ...                  ...   \n",
       "17062                           JUST DANCE HARDSTYLE            -0.273596   \n",
       "17063                 SET FIRE TO THE RAIN HARDSTYLE            -0.591776   \n",
       "17064                      OUTSIDE HARDSTYLE SPED UP            -1.140792   \n",
       "17065                            ONLY GIRL HARDSTYLE            -1.303001   \n",
       "17066                             MISS YOU HARDSTYLE            -0.797657   \n",
       "\n",
       "       Loudness_scaled  Cluster  \n",
       "0             0.175395        1  \n",
       "1             0.388378        1  \n",
       "2             0.853047        1  \n",
       "3            -0.304803        1  \n",
       "4             0.379258        1  \n",
       "...                ...      ...  \n",
       "17062         0.257976        0  \n",
       "17063         1.381561        0  \n",
       "17064         0.668412        0  \n",
       "17065         0.834805        0  \n",
       "17066         0.701937        0  \n",
       "\n",
       "[17067 rows x 4 columns]"
      ]
     },
     "execution_count": 53,
     "metadata": {},
     "output_type": "execute_result"
    }
   ],
   "source": [
    "df = pd.read_csv(\"d:/University/third_course/MTAD/lab4/kmeans.csv\")\n",
    "df"
   ]
  },
  {
   "cell_type": "code",
   "execution_count": 42,
   "metadata": {},
   "outputs": [],
   "source": [
    "X = df[['Danceability_scaled', 'Loudness_scaled']]\n",
    "y = df['Cluster']\n"
   ]
  },
  {
   "cell_type": "code",
   "execution_count": 43,
   "metadata": {},
   "outputs": [],
   "source": [
    "X_train, X_test, y_train, y_test = train_test_split(X, y, test_size=0.2, random_state=41)"
   ]
  },
  {
   "cell_type": "code",
   "execution_count": 44,
   "metadata": {},
   "outputs": [],
   "source": [
    "accuracy_list = []\n",
    "k_values = range(1, 51)\n",
    "for k in k_values:\n",
    "    knn = KNeighborsClassifier(n_neighbors=k)\n",
    "    knn.fit(X_train, y_train)\n",
    "    y_val_pred = knn.predict(X_test)\n",
    "    accuracy = accuracy_score(y_test, y_val_pred)\n",
    "    accuracy_list.append(accuracy)"
   ]
  },
  {
   "cell_type": "code",
   "execution_count": 45,
   "metadata": {},
   "outputs": [
    {
     "name": "stdout",
     "output_type": "stream",
     "text": [
      "Оптимальне k: 20, Точність: 1.00\n"
     ]
    }
   ],
   "source": [
    "optimal_k = k_values[accuracy_list.index(max(accuracy_list))]\n",
    "print(f\"Оптимальне k: {optimal_k}, Точність: {max(accuracy_list):.2f}\")"
   ]
  },
  {
   "cell_type": "code",
   "execution_count": null,
   "metadata": {},
   "outputs": [
    {
     "data": {
      "image/png": "[encoded data removed]",
      "text/plain": [
       "<Figure size 640x480 with 1 Axes>"
      ]
     },
     "metadata": {},
     "output_type": "display_data"
    }
   ],
   "source": [
    "plt.plot(k_values, accuracy_list, marker='o')\n",
    "plt.xlabel('k (кількість сусідів)')\n",
    "plt.ylabel('Точність')\n",
    "plt.title('Залежність точності від k')\n",
    "plt.grid()\n",
    "plt.show()"
   ]
  },
  {
   "cell_type": "code",
   "execution_count": 49,
   "metadata": {},
   "outputs": [
    {
     "name": "stdout",
     "output_type": "stream",
     "text": [
      "Точність на тестовій вибірці: 1.00\n"
     ]
    }
   ],
   "source": [
    "knn_final = KNeighborsClassifier(n_neighbors=optimal_k)\n",
    "knn_final.fit(X_train, y_train)\n",
    "y_test_pred = knn_final.predict(X_test)\n",
    "test_accuracy = accuracy_score(y_test, y_test_pred)\n",
    "print(f\"Точність на тестовій вибірці: {test_accuracy:.2f}\")"
   ]
  },
  {
   "cell_type": "code",
   "execution_count": 52,
   "metadata": {},
   "outputs": [
    {
     "name": "stdout",
     "output_type": "stream",
     "text": [
      "Крос-валідація: середня точність = 0.9973047401417942, розкид = 0.0007904574654732644\n"
     ]
    }
   ],
   "source": [
    "cv_scores = cross_val_score(KNeighborsClassifier(n_neighbors=optimal_k), X, y, cv=3)\n",
    "print(f\"Крос-валідація: середня точність = {cv_scores.mean()}, розкид = {cv_scores.std()}\")\n"
   ]
  },
  {
   "cell_type": "code",
   "execution_count": 51,
   "metadata": {},
   "outputs": [
    {
     "data": {
      "text/plain": [
       "array([0.99666022, 0.998418  , 0.996836  ])"
      ]
     },
     "execution_count": 51,
     "metadata": {},
     "output_type": "execute_result"
    }
   ],
   "source": [
    "cv_scores"
   ]
  }
 ],
 "metadata": {
  "kernelspec": {
   "display_name": "thirdcourse2",
   "language": "python",
   "name": "python3"
  },
  "language_info": {
   "codemirror_mode": {
    "name": "ipython",
    "version": 3
   },
   "file_extension": ".py",
   "mimetype": "text/x-python",
   "name": "python",
   "nbconvert_exporter": "python",
   "pygments_lexer": "ipython3",
   "version": "3.13.0"
  }
 },
 "nbformat": 4,
 "nbformat_minor": 2
}
