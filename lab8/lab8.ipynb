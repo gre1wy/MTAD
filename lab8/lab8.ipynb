{
 "cells": [
  {
   "cell_type": "code",
   "execution_count": 185,
   "metadata": {},
   "outputs": [],
   "source": [
    "import numpy as np\n",
    "from statsmodels.stats.weightstats import ztest\n"
   ]
  },
  {
   "cell_type": "code",
   "execution_count": 186,
   "metadata": {},
   "outputs": [],
   "source": [
    "n_samples = 1864\n",
    "p_control = 0.05\n",
    "p_experiment = 0.07"
   ]
  },
  {
   "cell_type": "code",
   "execution_count": 187,
   "metadata": {},
   "outputs": [],
   "source": [
    "control = np.random.choice([0, 1], size=n_samples, p=[1-p_control, p_control])  \n",
    "experiment = np.random.choice([0, 1], size=n_samples, p=[1-p_experiment, p_experiment])\n"
   ]
  },
  {
   "cell_type": "code",
   "execution_count": 188,
   "metadata": {},
   "outputs": [],
   "source": [
    "conversion_control = control.mean()\n",
    "conversion_experiment = experiment.mean()\n"
   ]
  },
  {
   "cell_type": "code",
   "execution_count": 189,
   "metadata": {},
   "outputs": [],
   "source": [
    "z_stat, p_value = ztest(control, experiment)\n",
    "\n",
    "success = (conversion_experiment - conversion_control) >= 0.02"
   ]
  },
  {
   "cell_type": "code",
   "execution_count": 190,
   "metadata": {},
   "outputs": [],
   "source": [
    "results = {\n",
    "    \"Conversion Rate (Control)\": conversion_control,\n",
    "    \"Conversion Rate (Experiment)\": conversion_experiment,\n",
    "    \"Z-Statistic\": z_stat,\n",
    "    \"P-Value\": p_value,\n",
    "    \"Success Criterion Met\": success\n",
    "}\n"
   ]
  },
  {
   "cell_type": "code",
   "execution_count": 191,
   "metadata": {},
   "outputs": [
    {
     "name": "stdout",
     "output_type": "stream",
     "text": [
      "Conversion Rate (Control): 0.0488\n",
      "Conversion Rate (Experiment): 0.0735\n",
      "Z-Statistic: -3.1474\n",
      "P-Value: 0.0016\n",
      "Success Criterion Met: True\n",
      "Результат статистично значущий: зміна дизайну кнопки впливає на конверсію.\n"
     ]
    }
   ],
   "source": [
    "for key, value in results.items():\n",
    "    print(f\"{key}: {value:.4f}\" if isinstance(value, float) else f\"{key}: {value}\")\n",
    "\n",
    "if p_value < 0.05:\n",
    "    print(\"Результат статистично значущий: зміна дизайну кнопки впливає на конверсію.\")\n",
    "else:\n",
    "    print(\"Результат не є статистично значущим: немає доказів впливу зміни дизайну на конверсію.\")"
   ]
  },
  {
   "cell_type": "code",
   "execution_count": null,
   "metadata": {},
   "outputs": [],
   "source": []
  }
 ],
 "metadata": {
  "kernelspec": {
   "display_name": "thirdcourse2",
   "language": "python",
   "name": "python3"
  },
  "language_info": {
   "codemirror_mode": {
    "name": "ipython",
    "version": 3
   },
   "file_extension": ".py",
   "mimetype": "text/x-python",
   "name": "python",
   "nbconvert_exporter": "python",
   "pygments_lexer": "ipython3",
   "version": "3.13.0"
  }
 },
 "nbformat": 4,
 "nbformat_minor": 2
}
